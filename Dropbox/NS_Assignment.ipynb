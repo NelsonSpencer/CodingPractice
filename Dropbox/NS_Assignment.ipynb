{
 "cells": [
  {
   "cell_type": "code",
   "execution_count": 60,
   "metadata": {
    "collapsed": false
   },
   "outputs": [
    {
     "data": {
      "application/javascript": [
       "$.getScript('https://kmahelona.github.io/ipython_notebook_goodies/ipython_notebook_toc.js')"
      ],
      "text/plain": [
       "<IPython.core.display.Javascript object>"
      ]
     },
     "metadata": {},
     "output_type": "display_data"
    }
   ],
   "source": [
    "%%javascript\n",
    "$.getScript('https://kmahelona.github.io/ipython_notebook_goodies/ipython_notebook_toc.js')"
   ]
  },
  {
   "cell_type": "markdown",
   "metadata": {},
   "source": [
    "<h1 id=\"tocheading\">Table of Contents</h1>\n",
    "<div id=\"toc\"></div>"
   ]
  },
  {
   "cell_type": "code",
   "execution_count": 61,
   "metadata": {
    "collapsed": false
   },
   "outputs": [],
   "source": [
    "import pandas as pd\n",
    "import numpy as np\n",
    "from dateutil import parser\n",
    "\n",
    "import seaborn as sns\n",
    "import matplotlib as plt\n",
    "\n",
    "%matplotlib inline"
   ]
  },
  {
   "cell_type": "markdown",
   "metadata": {},
   "source": [
    "#Read in Data"
   ]
  },
  {
   "cell_type": "code",
   "execution_count": 62,
   "metadata": {
    "collapsed": false
   },
   "outputs": [],
   "source": [
    "product = pd.read_csv(\"product.csv\",skipinitialspace=True)\n",
    "product_class = pd.read_csv(\"product_class.csv\",skipinitialspace=True)\n",
    "promotion = pd.read_csv(\"promotion.csv\", names=['promotion_id',\n",
    "                                                'promotion_district_id','promotion_name','media_type',\n",
    "                                                'cost', 'start_date','end_date','filler_title','filler_title2'],\n",
    "                       skipinitialspace=True,\n",
    "                       skiprows = [0,1]) \n",
    "transactions = pd.read_csv(\"transactions.csv\",skipinitialspace=True)"
   ]
  },
  {
   "cell_type": "markdown",
   "metadata": {},
   "source": [
    "Notes: \n",
    "    - A few of the columns were missing in the promotion dats, so I named them directly when reading in the data\n",
    "    - There was also additional white space so I took care of it with skipinitialspace"
   ]
  },
  {
   "cell_type": "markdown",
   "metadata": {},
   "source": [
    "#Exploratory Data Analysis (EDA)\n",
    "\n",
    "First thing we'll do is explore the data to see if we need to clean anything up. Typically I like to look at three things for every new data set:\n",
    "    - A quick glance at the data overall\n",
    "    - A count of the varaibles in each column to see if any data is missing\n",
    "    - A look at the data types for all of the columns in the data to see if there's anything we should change\n",
    "        \n"
   ]
  },
  {
   "cell_type": "markdown",
   "metadata": {},
   "source": [
    "##Product"
   ]
  },
  {
   "cell_type": "code",
   "execution_count": 63,
   "metadata": {
    "collapsed": false
   },
   "outputs": [
    {
     "data": {
      "text/html": [
       "<div>\n",
       "<table border=\"1\" class=\"dataframe\">\n",
       "  <thead>\n",
       "    <tr style=\"text-align: right;\">\n",
       "      <th></th>\n",
       "      <th>product_class_id</th>\n",
       "      <th>product_id</th>\n",
       "      <th>brand_name</th>\n",
       "      <th>product_name</th>\n",
       "      <th>SKU</th>\n",
       "      <th>SRP</th>\n",
       "      <th>gross_weight</th>\n",
       "      <th>net_weight</th>\n",
       "      <th>recyclable_package</th>\n",
       "      <th>low_fat</th>\n",
       "      <th>units_per_case</th>\n",
       "      <th>cases_per_pallet</th>\n",
       "      <th>shelf_width</th>\n",
       "      <th>shelf_height</th>\n",
       "      <th>shelf_depth</th>\n",
       "    </tr>\n",
       "  </thead>\n",
       "  <tbody>\n",
       "    <tr>\n",
       "      <th>0</th>\n",
       "      <td>30</td>\n",
       "      <td>1</td>\n",
       "      <td>'Washington'</td>\n",
       "      <td>'Washington Berry Juice'</td>\n",
       "      <td>90748583674</td>\n",
       "      <td>'2.8500'</td>\n",
       "      <td>8.39</td>\n",
       "      <td>6.39</td>\n",
       "      <td>0</td>\n",
       "      <td>0</td>\n",
       "      <td>30</td>\n",
       "      <td>14</td>\n",
       "      <td>16.9</td>\n",
       "      <td>12.60</td>\n",
       "      <td>7.40</td>\n",
       "    </tr>\n",
       "    <tr>\n",
       "      <th>1</th>\n",
       "      <td>52</td>\n",
       "      <td>2</td>\n",
       "      <td>'Washington'</td>\n",
       "      <td>'Washington Mango Drink'</td>\n",
       "      <td>96516502499</td>\n",
       "      <td>'0.7400'</td>\n",
       "      <td>7.42</td>\n",
       "      <td>4.42</td>\n",
       "      <td>0</td>\n",
       "      <td>1</td>\n",
       "      <td>18</td>\n",
       "      <td>8</td>\n",
       "      <td>13.4</td>\n",
       "      <td>3.71</td>\n",
       "      <td>22.60</td>\n",
       "    </tr>\n",
       "    <tr>\n",
       "      <th>2</th>\n",
       "      <td>52</td>\n",
       "      <td>3</td>\n",
       "      <td>'Washington'</td>\n",
       "      <td>'Washington Strawberry Drink'</td>\n",
       "      <td>58427771925</td>\n",
       "      <td>'0.8300'</td>\n",
       "      <td>13.10</td>\n",
       "      <td>11.10</td>\n",
       "      <td>1</td>\n",
       "      <td>1</td>\n",
       "      <td>17</td>\n",
       "      <td>13</td>\n",
       "      <td>14.4</td>\n",
       "      <td>11.00</td>\n",
       "      <td>7.77</td>\n",
       "    </tr>\n",
       "  </tbody>\n",
       "</table>\n",
       "</div>"
      ],
      "text/plain": [
       "   product_class_id  product_id    brand_name                   product_name  \\\n",
       "0                30           1  'Washington'       'Washington Berry Juice'   \n",
       "1                52           2  'Washington'       'Washington Mango Drink'   \n",
       "2                52           3  'Washington'  'Washington Strawberry Drink'   \n",
       "\n",
       "           SKU       SRP  gross_weight  net_weight  recyclable_package  \\\n",
       "0  90748583674  '2.8500'          8.39        6.39                   0   \n",
       "1  96516502499  '0.7400'          7.42        4.42                   0   \n",
       "2  58427771925  '0.8300'         13.10       11.10                   1   \n",
       "\n",
       "   low_fat  units_per_case  cases_per_pallet  shelf_width  shelf_height  \\\n",
       "0        0              30                14         16.9         12.60   \n",
       "1        1              18                 8         13.4          3.71   \n",
       "2        1              17                13         14.4         11.00   \n",
       "\n",
       "   shelf_depth  \n",
       "0         7.40  \n",
       "1        22.60  \n",
       "2         7.77  "
      ]
     },
     "execution_count": 63,
     "metadata": {},
     "output_type": "execute_result"
    }
   ],
   "source": [
    "product.head(3)"
   ]
  },
  {
   "cell_type": "code",
   "execution_count": 64,
   "metadata": {
    "collapsed": false
   },
   "outputs": [
    {
     "data": {
      "text/plain": [
       "product_class_id      1560\n",
       "product_id            1560\n",
       "brand_name            1560\n",
       "product_name          1560\n",
       "SKU                   1560\n",
       "SRP                   1560\n",
       "gross_weight          1560\n",
       "net_weight            1560\n",
       "recyclable_package    1560\n",
       "low_fat               1560\n",
       "units_per_case        1560\n",
       "cases_per_pallet      1560\n",
       "shelf_width           1560\n",
       "shelf_height          1560\n",
       "shelf_depth           1560\n",
       "dtype: int64"
      ]
     },
     "execution_count": 64,
     "metadata": {},
     "output_type": "execute_result"
    }
   ],
   "source": [
    "product.count()"
   ]
  },
  {
   "cell_type": "code",
   "execution_count": 65,
   "metadata": {
    "collapsed": false
   },
   "outputs": [
    {
     "data": {
      "text/plain": [
       "product_class_id        int64\n",
       "product_id              int64\n",
       "brand_name             object\n",
       "product_name           object\n",
       "SKU                     int64\n",
       "SRP                    object\n",
       "gross_weight          float64\n",
       "net_weight            float64\n",
       "recyclable_package      int64\n",
       "low_fat                 int64\n",
       "units_per_case          int64\n",
       "cases_per_pallet        int64\n",
       "shelf_width           float64\n",
       "shelf_height          float64\n",
       "shelf_depth           float64\n",
       "dtype: object"
      ]
     },
     "execution_count": 65,
     "metadata": {},
     "output_type": "execute_result"
    }
   ],
   "source": [
    "product.dtypes"
   ]
  },
  {
   "cell_type": "code",
   "execution_count": 66,
   "metadata": {
    "collapsed": false
   },
   "outputs": [
    {
     "data": {
      "text/html": [
       "<div>\n",
       "<table border=\"1\" class=\"dataframe\">\n",
       "  <thead>\n",
       "    <tr style=\"text-align: right;\">\n",
       "      <th></th>\n",
       "      <th>product_id</th>\n",
       "      <th>customer_id</th>\n",
       "      <th>store_id</th>\n",
       "      <th>promotion_id</th>\n",
       "      <th>month_of_year</th>\n",
       "      <th>quarter</th>\n",
       "      <th>the_year</th>\n",
       "      <th>store_sales</th>\n",
       "      <th>store_cost</th>\n",
       "      <th>unit_sales</th>\n",
       "      <th>fact_count</th>\n",
       "    </tr>\n",
       "  </thead>\n",
       "  <tbody>\n",
       "    <tr>\n",
       "      <th>0</th>\n",
       "      <td>1</td>\n",
       "      <td>157</td>\n",
       "      <td>24</td>\n",
       "      <td>1869</td>\n",
       "      <td>12</td>\n",
       "      <td>'Q4'</td>\n",
       "      <td>1997</td>\n",
       "      <td>'8.5500'</td>\n",
       "      <td>'2.9925'</td>\n",
       "      <td>'3.0000'</td>\n",
       "      <td>1</td>\n",
       "    </tr>\n",
       "    <tr>\n",
       "      <th>1</th>\n",
       "      <td>1</td>\n",
       "      <td>456</td>\n",
       "      <td>15</td>\n",
       "      <td>0</td>\n",
       "      <td>6</td>\n",
       "      <td>'Q2'</td>\n",
       "      <td>1997</td>\n",
       "      <td>'11.4000'</td>\n",
       "      <td>'4.3320'</td>\n",
       "      <td>'4.0000'</td>\n",
       "      <td>1</td>\n",
       "    </tr>\n",
       "    <tr>\n",
       "      <th>2</th>\n",
       "      <td>1</td>\n",
       "      <td>638</td>\n",
       "      <td>11</td>\n",
       "      <td>0</td>\n",
       "      <td>9</td>\n",
       "      <td>'Q3'</td>\n",
       "      <td>1997</td>\n",
       "      <td>'8.5500'</td>\n",
       "      <td>'2.9925'</td>\n",
       "      <td>'3.0000'</td>\n",
       "      <td>1</td>\n",
       "    </tr>\n",
       "    <tr>\n",
       "      <th>3</th>\n",
       "      <td>1</td>\n",
       "      <td>916</td>\n",
       "      <td>7</td>\n",
       "      <td>0</td>\n",
       "      <td>4</td>\n",
       "      <td>'Q2'</td>\n",
       "      <td>1997</td>\n",
       "      <td>'11.4000'</td>\n",
       "      <td>'4.9020'</td>\n",
       "      <td>'4.0000'</td>\n",
       "      <td>1</td>\n",
       "    </tr>\n",
       "    <tr>\n",
       "      <th>4</th>\n",
       "      <td>1</td>\n",
       "      <td>923</td>\n",
       "      <td>15</td>\n",
       "      <td>0</td>\n",
       "      <td>7</td>\n",
       "      <td>'Q3'</td>\n",
       "      <td>1997</td>\n",
       "      <td>'8.5500'</td>\n",
       "      <td>'2.7360'</td>\n",
       "      <td>'3.0000'</td>\n",
       "      <td>1</td>\n",
       "    </tr>\n",
       "  </tbody>\n",
       "</table>\n",
       "</div>"
      ],
      "text/plain": [
       "   product_id  customer_id  store_id  promotion_id  month_of_year quarter  \\\n",
       "0           1          157        24          1869             12    'Q4'   \n",
       "1           1          456        15             0              6    'Q2'   \n",
       "2           1          638        11             0              9    'Q3'   \n",
       "3           1          916         7             0              4    'Q2'   \n",
       "4           1          923        15             0              7    'Q3'   \n",
       "\n",
       "   the_year store_sales store_cost unit_sales fact_count  \n",
       "0      1997    '8.5500'   '2.9925'   '3.0000'          1  \n",
       "1      1997   '11.4000'   '4.3320'   '4.0000'          1  \n",
       "2      1997    '8.5500'   '2.9925'   '3.0000'          1  \n",
       "3      1997   '11.4000'   '4.9020'   '4.0000'          1  \n",
       "4      1997    '8.5500'   '2.7360'   '3.0000'          1  "
      ]
     },
     "execution_count": 66,
     "metadata": {},
     "output_type": "execute_result"
    }
   ],
   "source": [
    "transactions.head()"
   ]
  },
  {
   "cell_type": "code",
   "execution_count": 67,
   "metadata": {
    "collapsed": false
   },
   "outputs": [
    {
     "data": {
      "text/html": [
       "<div>\n",
       "<table border=\"1\" class=\"dataframe\">\n",
       "  <thead>\n",
       "    <tr style=\"text-align: right;\">\n",
       "      <th></th>\n",
       "      <th>product_class_id</th>\n",
       "      <th>product_id</th>\n",
       "      <th>brand_name</th>\n",
       "      <th>product_name</th>\n",
       "      <th>SKU</th>\n",
       "      <th>SRP</th>\n",
       "      <th>gross_weight</th>\n",
       "      <th>net_weight</th>\n",
       "      <th>recyclable_package</th>\n",
       "      <th>low_fat</th>\n",
       "      <th>units_per_case</th>\n",
       "      <th>cases_per_pallet</th>\n",
       "      <th>shelf_width</th>\n",
       "      <th>shelf_height</th>\n",
       "      <th>shelf_depth</th>\n",
       "    </tr>\n",
       "  </thead>\n",
       "  <tbody>\n",
       "    <tr>\n",
       "      <th>0</th>\n",
       "      <td>30</td>\n",
       "      <td>1</td>\n",
       "      <td>'Washington'</td>\n",
       "      <td>'Washington Berry Juice'</td>\n",
       "      <td>90748583674</td>\n",
       "      <td>'2.8500'</td>\n",
       "      <td>8.39</td>\n",
       "      <td>6.39</td>\n",
       "      <td>0</td>\n",
       "      <td>0</td>\n",
       "      <td>30</td>\n",
       "      <td>14</td>\n",
       "      <td>16.9</td>\n",
       "      <td>12.60</td>\n",
       "      <td>7.40</td>\n",
       "    </tr>\n",
       "    <tr>\n",
       "      <th>1</th>\n",
       "      <td>52</td>\n",
       "      <td>2</td>\n",
       "      <td>'Washington'</td>\n",
       "      <td>'Washington Mango Drink'</td>\n",
       "      <td>96516502499</td>\n",
       "      <td>'0.7400'</td>\n",
       "      <td>7.42</td>\n",
       "      <td>4.42</td>\n",
       "      <td>0</td>\n",
       "      <td>1</td>\n",
       "      <td>18</td>\n",
       "      <td>8</td>\n",
       "      <td>13.4</td>\n",
       "      <td>3.71</td>\n",
       "      <td>22.60</td>\n",
       "    </tr>\n",
       "    <tr>\n",
       "      <th>2</th>\n",
       "      <td>52</td>\n",
       "      <td>3</td>\n",
       "      <td>'Washington'</td>\n",
       "      <td>'Washington Strawberry Drink'</td>\n",
       "      <td>58427771925</td>\n",
       "      <td>'0.8300'</td>\n",
       "      <td>13.10</td>\n",
       "      <td>11.10</td>\n",
       "      <td>1</td>\n",
       "      <td>1</td>\n",
       "      <td>17</td>\n",
       "      <td>13</td>\n",
       "      <td>14.4</td>\n",
       "      <td>11.00</td>\n",
       "      <td>7.77</td>\n",
       "    </tr>\n",
       "    <tr>\n",
       "      <th>3</th>\n",
       "      <td>19</td>\n",
       "      <td>4</td>\n",
       "      <td>'Washington'</td>\n",
       "      <td>'Washington Cream Soda'</td>\n",
       "      <td>64412155747</td>\n",
       "      <td>'3.6400'</td>\n",
       "      <td>10.60</td>\n",
       "      <td>9.60</td>\n",
       "      <td>1</td>\n",
       "      <td>0</td>\n",
       "      <td>26</td>\n",
       "      <td>10</td>\n",
       "      <td>22.9</td>\n",
       "      <td>18.90</td>\n",
       "      <td>7.93</td>\n",
       "    </tr>\n",
       "    <tr>\n",
       "      <th>4</th>\n",
       "      <td>19</td>\n",
       "      <td>5</td>\n",
       "      <td>'Washington'</td>\n",
       "      <td>'Washington Diet Soda'</td>\n",
       "      <td>85561191439</td>\n",
       "      <td>'2.1900'</td>\n",
       "      <td>6.66</td>\n",
       "      <td>4.65</td>\n",
       "      <td>1</td>\n",
       "      <td>0</td>\n",
       "      <td>7</td>\n",
       "      <td>10</td>\n",
       "      <td>20.7</td>\n",
       "      <td>21.90</td>\n",
       "      <td>19.20</td>\n",
       "    </tr>\n",
       "  </tbody>\n",
       "</table>\n",
       "</div>"
      ],
      "text/plain": [
       "   product_class_id  product_id    brand_name                   product_name  \\\n",
       "0                30           1  'Washington'       'Washington Berry Juice'   \n",
       "1                52           2  'Washington'       'Washington Mango Drink'   \n",
       "2                52           3  'Washington'  'Washington Strawberry Drink'   \n",
       "3                19           4  'Washington'        'Washington Cream Soda'   \n",
       "4                19           5  'Washington'         'Washington Diet Soda'   \n",
       "\n",
       "           SKU       SRP  gross_weight  net_weight  recyclable_package  \\\n",
       "0  90748583674  '2.8500'          8.39        6.39                   0   \n",
       "1  96516502499  '0.7400'          7.42        4.42                   0   \n",
       "2  58427771925  '0.8300'         13.10       11.10                   1   \n",
       "3  64412155747  '3.6400'         10.60        9.60                   1   \n",
       "4  85561191439  '2.1900'          6.66        4.65                   1   \n",
       "\n",
       "   low_fat  units_per_case  cases_per_pallet  shelf_width  shelf_height  \\\n",
       "0        0              30                14         16.9         12.60   \n",
       "1        1              18                 8         13.4          3.71   \n",
       "2        1              17                13         14.4         11.00   \n",
       "3        0              26                10         22.9         18.90   \n",
       "4        0               7                10         20.7         21.90   \n",
       "\n",
       "   shelf_depth  \n",
       "0         7.40  \n",
       "1        22.60  \n",
       "2         7.77  \n",
       "3         7.93  \n",
       "4        19.20  "
      ]
     },
     "execution_count": 67,
     "metadata": {},
     "output_type": "execute_result"
    }
   ],
   "source": [
    "product.head()"
   ]
  },
  {
   "cell_type": "code",
   "execution_count": 68,
   "metadata": {
    "collapsed": false
   },
   "outputs": [
    {
     "data": {
      "text/html": [
       "<div>\n",
       "<table border=\"1\" class=\"dataframe\">\n",
       "  <thead>\n",
       "    <tr style=\"text-align: right;\">\n",
       "      <th></th>\n",
       "      <th>product_class_id</th>\n",
       "      <th>product_subcategory</th>\n",
       "      <th>product_category</th>\n",
       "      <th>product_department</th>\n",
       "      <th>product_family</th>\n",
       "    </tr>\n",
       "  </thead>\n",
       "  <tbody>\n",
       "    <tr>\n",
       "      <th>0</th>\n",
       "      <td>1</td>\n",
       "      <td>'Nuts'</td>\n",
       "      <td>'Specialty'</td>\n",
       "      <td>'Produce'</td>\n",
       "      <td>'Food'</td>\n",
       "    </tr>\n",
       "    <tr>\n",
       "      <th>1</th>\n",
       "      <td>2</td>\n",
       "      <td>'Shellfish'</td>\n",
       "      <td>'Seafood'</td>\n",
       "      <td>'Seafood'</td>\n",
       "      <td>'Food'</td>\n",
       "    </tr>\n",
       "    <tr>\n",
       "      <th>2</th>\n",
       "      <td>3</td>\n",
       "      <td>'Canned Fruit'</td>\n",
       "      <td>'Fruit'</td>\n",
       "      <td>'Canned Products'</td>\n",
       "      <td>'Food'</td>\n",
       "    </tr>\n",
       "    <tr>\n",
       "      <th>3</th>\n",
       "      <td>4</td>\n",
       "      <td>'Spices'</td>\n",
       "      <td>'Baking Goods'</td>\n",
       "      <td>'Baking Goods'</td>\n",
       "      <td>'Food'</td>\n",
       "    </tr>\n",
       "    <tr>\n",
       "      <th>4</th>\n",
       "      <td>5</td>\n",
       "      <td>'Pasta'</td>\n",
       "      <td>'Starchy Foods'</td>\n",
       "      <td>'Starchy Foods'</td>\n",
       "      <td>'Food'</td>\n",
       "    </tr>\n",
       "  </tbody>\n",
       "</table>\n",
       "</div>"
      ],
      "text/plain": [
       "   product_class_id product_subcategory product_category product_department  \\\n",
       "0                 1              'Nuts'      'Specialty'          'Produce'   \n",
       "1                 2         'Shellfish'        'Seafood'          'Seafood'   \n",
       "2                 3      'Canned Fruit'          'Fruit'  'Canned Products'   \n",
       "3                 4            'Spices'   'Baking Goods'     'Baking Goods'   \n",
       "4                 5             'Pasta'  'Starchy Foods'    'Starchy Foods'   \n",
       "\n",
       "  product_family  \n",
       "0         'Food'  \n",
       "1         'Food'  \n",
       "2         'Food'  \n",
       "3         'Food'  \n",
       "4         'Food'  "
      ]
     },
     "execution_count": 68,
     "metadata": {},
     "output_type": "execute_result"
    }
   ],
   "source": [
    "product_class.head()"
   ]
  },
  {
   "cell_type": "markdown",
   "metadata": {},
   "source": [
    "##Product Class"
   ]
  },
  {
   "cell_type": "code",
   "execution_count": 69,
   "metadata": {
    "collapsed": false
   },
   "outputs": [
    {
     "data": {
      "text/html": [
       "<div>\n",
       "<table border=\"1\" class=\"dataframe\">\n",
       "  <thead>\n",
       "    <tr style=\"text-align: right;\">\n",
       "      <th></th>\n",
       "      <th>product_class_id</th>\n",
       "      <th>product_subcategory</th>\n",
       "      <th>product_category</th>\n",
       "      <th>product_department</th>\n",
       "      <th>product_family</th>\n",
       "    </tr>\n",
       "  </thead>\n",
       "  <tbody>\n",
       "    <tr>\n",
       "      <th>0</th>\n",
       "      <td>1</td>\n",
       "      <td>'Nuts'</td>\n",
       "      <td>'Specialty'</td>\n",
       "      <td>'Produce'</td>\n",
       "      <td>'Food'</td>\n",
       "    </tr>\n",
       "    <tr>\n",
       "      <th>1</th>\n",
       "      <td>2</td>\n",
       "      <td>'Shellfish'</td>\n",
       "      <td>'Seafood'</td>\n",
       "      <td>'Seafood'</td>\n",
       "      <td>'Food'</td>\n",
       "    </tr>\n",
       "    <tr>\n",
       "      <th>2</th>\n",
       "      <td>3</td>\n",
       "      <td>'Canned Fruit'</td>\n",
       "      <td>'Fruit'</td>\n",
       "      <td>'Canned Products'</td>\n",
       "      <td>'Food'</td>\n",
       "    </tr>\n",
       "  </tbody>\n",
       "</table>\n",
       "</div>"
      ],
      "text/plain": [
       "   product_class_id product_subcategory product_category product_department  \\\n",
       "0                 1              'Nuts'      'Specialty'          'Produce'   \n",
       "1                 2         'Shellfish'        'Seafood'          'Seafood'   \n",
       "2                 3      'Canned Fruit'          'Fruit'  'Canned Products'   \n",
       "\n",
       "  product_family  \n",
       "0         'Food'  \n",
       "1         'Food'  \n",
       "2         'Food'  "
      ]
     },
     "execution_count": 69,
     "metadata": {},
     "output_type": "execute_result"
    }
   ],
   "source": [
    "product_class.head(3)"
   ]
  },
  {
   "cell_type": "code",
   "execution_count": 70,
   "metadata": {
    "collapsed": false
   },
   "outputs": [
    {
     "data": {
      "text/plain": [
       "product_class_id       110\n",
       "product_subcategory    110\n",
       "product_category       110\n",
       "product_department     110\n",
       "product_family         110\n",
       "dtype: int64"
      ]
     },
     "execution_count": 70,
     "metadata": {},
     "output_type": "execute_result"
    }
   ],
   "source": [
    "product_class.count()"
   ]
  },
  {
   "cell_type": "code",
   "execution_count": 71,
   "metadata": {
    "collapsed": false
   },
   "outputs": [
    {
     "data": {
      "text/plain": [
       "product_class_id        int64\n",
       "product_subcategory    object\n",
       "product_category       object\n",
       "product_department     object\n",
       "product_family         object\n",
       "dtype: object"
      ]
     },
     "execution_count": 71,
     "metadata": {},
     "output_type": "execute_result"
    }
   ],
   "source": [
    "product_class.dtypes"
   ]
  },
  {
   "cell_type": "markdown",
   "metadata": {},
   "source": [
    "##Promotion"
   ]
  },
  {
   "cell_type": "code",
   "execution_count": 72,
   "metadata": {
    "collapsed": false
   },
   "outputs": [
    {
     "data": {
      "text/html": [
       "<div>\n",
       "<table border=\"1\" class=\"dataframe\">\n",
       "  <thead>\n",
       "    <tr style=\"text-align: right;\">\n",
       "      <th></th>\n",
       "      <th>promotion_id</th>\n",
       "      <th>promotion_district_id</th>\n",
       "      <th>promotion_name</th>\n",
       "      <th>media_type</th>\n",
       "      <th>cost</th>\n",
       "      <th>start_date</th>\n",
       "      <th>end_date</th>\n",
       "      <th>filler_title</th>\n",
       "      <th>filler_title2</th>\n",
       "    </tr>\n",
       "  </thead>\n",
       "  <tbody>\n",
       "    <tr>\n",
       "      <th>0</th>\n",
       "      <td>1</td>\n",
       "      <td>110</td>\n",
       "      <td>'High Roller Savings'</td>\n",
       "      <td>'Product Attachment'</td>\n",
       "      <td>'14435.0000'</td>\n",
       "      <td>'1996-01-03 00:00:00'</td>\n",
       "      <td>'1996-01-06 00:00:00'</td>\n",
       "      <td>NaN</td>\n",
       "      <td>NaN</td>\n",
       "    </tr>\n",
       "    <tr>\n",
       "      <th>1</th>\n",
       "      <td>2</td>\n",
       "      <td>110</td>\n",
       "      <td>'Green Light Special'</td>\n",
       "      <td>'Product Attachment'</td>\n",
       "      <td>'8907.0000'</td>\n",
       "      <td>'1996-01-18 00:00:00'</td>\n",
       "      <td>'1996-01-20 00:00:00'</td>\n",
       "      <td>NaN</td>\n",
       "      <td>NaN</td>\n",
       "    </tr>\n",
       "    <tr>\n",
       "      <th>2</th>\n",
       "      <td>3</td>\n",
       "      <td>110</td>\n",
       "      <td>'Wallet Savers'</td>\n",
       "      <td>'Radio'</td>\n",
       "      <td>'12512.0000'</td>\n",
       "      <td>'1996-02-02 00:00:00'</td>\n",
       "      <td>'1996-02-05 00:00:00'</td>\n",
       "      <td>NaN</td>\n",
       "      <td>NaN</td>\n",
       "    </tr>\n",
       "  </tbody>\n",
       "</table>\n",
       "</div>"
      ],
      "text/plain": [
       "   promotion_id  promotion_district_id         promotion_name  \\\n",
       "0             1                    110  'High Roller Savings'   \n",
       "1             2                    110  'Green Light Special'   \n",
       "2             3                    110        'Wallet Savers'   \n",
       "\n",
       "             media_type          cost             start_date  \\\n",
       "0  'Product Attachment'  '14435.0000'  '1996-01-03 00:00:00'   \n",
       "1  'Product Attachment'   '8907.0000'  '1996-01-18 00:00:00'   \n",
       "2               'Radio'  '12512.0000'  '1996-02-02 00:00:00'   \n",
       "\n",
       "                end_date filler_title filler_title2  \n",
       "0  '1996-01-06 00:00:00'          NaN           NaN  \n",
       "1  '1996-01-20 00:00:00'          NaN           NaN  \n",
       "2  '1996-02-05 00:00:00'          NaN           NaN  "
      ]
     },
     "execution_count": 72,
     "metadata": {},
     "output_type": "execute_result"
    }
   ],
   "source": [
    "promotion.head(3)"
   ]
  },
  {
   "cell_type": "code",
   "execution_count": 73,
   "metadata": {
    "collapsed": false
   },
   "outputs": [
    {
     "data": {
      "text/plain": [
       "promotion_id             1863\n",
       "promotion_district_id    1863\n",
       "promotion_name           1863\n",
       "media_type               1863\n",
       "cost                     1863\n",
       "start_date               1863\n",
       "end_date                 1863\n",
       "filler_title              586\n",
       "filler_title2             288\n",
       "dtype: int64"
      ]
     },
     "execution_count": 73,
     "metadata": {},
     "output_type": "execute_result"
    }
   ],
   "source": [
    "promotion.count()"
   ]
  },
  {
   "cell_type": "code",
   "execution_count": 74,
   "metadata": {
    "collapsed": false
   },
   "outputs": [
    {
     "data": {
      "text/plain": [
       "promotion_id              int64\n",
       "promotion_district_id     int64\n",
       "promotion_name           object\n",
       "media_type               object\n",
       "cost                     object\n",
       "start_date               object\n",
       "end_date                 object\n",
       "filler_title             object\n",
       "filler_title2            object\n",
       "dtype: object"
      ]
     },
     "execution_count": 74,
     "metadata": {},
     "output_type": "execute_result"
    }
   ],
   "source": [
    "promotion.dtypes"
   ]
  },
  {
   "cell_type": "markdown",
   "metadata": {},
   "source": [
    "##Transactions"
   ]
  },
  {
   "cell_type": "code",
   "execution_count": 75,
   "metadata": {
    "collapsed": false
   },
   "outputs": [
    {
     "data": {
      "text/html": [
       "<div>\n",
       "<table border=\"1\" class=\"dataframe\">\n",
       "  <thead>\n",
       "    <tr style=\"text-align: right;\">\n",
       "      <th></th>\n",
       "      <th>product_id</th>\n",
       "      <th>customer_id</th>\n",
       "      <th>store_id</th>\n",
       "      <th>promotion_id</th>\n",
       "      <th>month_of_year</th>\n",
       "      <th>quarter</th>\n",
       "      <th>the_year</th>\n",
       "      <th>store_sales</th>\n",
       "      <th>store_cost</th>\n",
       "      <th>unit_sales</th>\n",
       "      <th>fact_count</th>\n",
       "    </tr>\n",
       "  </thead>\n",
       "  <tbody>\n",
       "    <tr>\n",
       "      <th>0</th>\n",
       "      <td>1</td>\n",
       "      <td>157</td>\n",
       "      <td>24</td>\n",
       "      <td>1869</td>\n",
       "      <td>12</td>\n",
       "      <td>'Q4'</td>\n",
       "      <td>1997</td>\n",
       "      <td>'8.5500'</td>\n",
       "      <td>'2.9925'</td>\n",
       "      <td>'3.0000'</td>\n",
       "      <td>1</td>\n",
       "    </tr>\n",
       "    <tr>\n",
       "      <th>1</th>\n",
       "      <td>1</td>\n",
       "      <td>456</td>\n",
       "      <td>15</td>\n",
       "      <td>0</td>\n",
       "      <td>6</td>\n",
       "      <td>'Q2'</td>\n",
       "      <td>1997</td>\n",
       "      <td>'11.4000'</td>\n",
       "      <td>'4.3320'</td>\n",
       "      <td>'4.0000'</td>\n",
       "      <td>1</td>\n",
       "    </tr>\n",
       "    <tr>\n",
       "      <th>2</th>\n",
       "      <td>1</td>\n",
       "      <td>638</td>\n",
       "      <td>11</td>\n",
       "      <td>0</td>\n",
       "      <td>9</td>\n",
       "      <td>'Q3'</td>\n",
       "      <td>1997</td>\n",
       "      <td>'8.5500'</td>\n",
       "      <td>'2.9925'</td>\n",
       "      <td>'3.0000'</td>\n",
       "      <td>1</td>\n",
       "    </tr>\n",
       "    <tr>\n",
       "      <th>3</th>\n",
       "      <td>1</td>\n",
       "      <td>916</td>\n",
       "      <td>7</td>\n",
       "      <td>0</td>\n",
       "      <td>4</td>\n",
       "      <td>'Q2'</td>\n",
       "      <td>1997</td>\n",
       "      <td>'11.4000'</td>\n",
       "      <td>'4.9020'</td>\n",
       "      <td>'4.0000'</td>\n",
       "      <td>1</td>\n",
       "    </tr>\n",
       "    <tr>\n",
       "      <th>4</th>\n",
       "      <td>1</td>\n",
       "      <td>923</td>\n",
       "      <td>15</td>\n",
       "      <td>0</td>\n",
       "      <td>7</td>\n",
       "      <td>'Q3'</td>\n",
       "      <td>1997</td>\n",
       "      <td>'8.5500'</td>\n",
       "      <td>'2.7360'</td>\n",
       "      <td>'3.0000'</td>\n",
       "      <td>1</td>\n",
       "    </tr>\n",
       "  </tbody>\n",
       "</table>\n",
       "</div>"
      ],
      "text/plain": [
       "   product_id  customer_id  store_id  promotion_id  month_of_year quarter  \\\n",
       "0           1          157        24          1869             12    'Q4'   \n",
       "1           1          456        15             0              6    'Q2'   \n",
       "2           1          638        11             0              9    'Q3'   \n",
       "3           1          916         7             0              4    'Q2'   \n",
       "4           1          923        15             0              7    'Q3'   \n",
       "\n",
       "   the_year store_sales store_cost unit_sales fact_count  \n",
       "0      1997    '8.5500'   '2.9925'   '3.0000'          1  \n",
       "1      1997   '11.4000'   '4.3320'   '4.0000'          1  \n",
       "2      1997    '8.5500'   '2.9925'   '3.0000'          1  \n",
       "3      1997   '11.4000'   '4.9020'   '4.0000'          1  \n",
       "4      1997    '8.5500'   '2.7360'   '3.0000'          1  "
      ]
     },
     "execution_count": 75,
     "metadata": {},
     "output_type": "execute_result"
    }
   ],
   "source": [
    "transactions.head()"
   ]
  },
  {
   "cell_type": "code",
   "execution_count": 76,
   "metadata": {
    "collapsed": false
   },
   "outputs": [
    {
     "data": {
      "text/plain": [
       "product_id       173602\n",
       "customer_id      173602\n",
       "store_id         173602\n",
       "promotion_id     173602\n",
       "month_of_year    173602\n",
       "quarter          173602\n",
       "the_year         173602\n",
       "store_sales      173602\n",
       "store_cost       173602\n",
       "unit_sales       173602\n",
       "fact_count       173602\n",
       "dtype: int64"
      ]
     },
     "execution_count": 76,
     "metadata": {},
     "output_type": "execute_result"
    }
   ],
   "source": [
    "transactions.count()"
   ]
  },
  {
   "cell_type": "code",
   "execution_count": 77,
   "metadata": {
    "collapsed": false
   },
   "outputs": [
    {
     "data": {
      "text/plain": [
       "product_id        int64\n",
       "customer_id       int64\n",
       "store_id          int64\n",
       "promotion_id      int64\n",
       "month_of_year     int64\n",
       "quarter          object\n",
       "the_year          int64\n",
       "store_sales      object\n",
       "store_cost       object\n",
       "unit_sales       object\n",
       "fact_count       object\n",
       "dtype: object"
      ]
     },
     "execution_count": 77,
     "metadata": {},
     "output_type": "execute_result"
    }
   ],
   "source": [
    "transactions.dtypes"
   ]
  },
  {
   "cell_type": "markdown",
   "metadata": {},
   "source": [
    "**EDA Oberservations**\n",
    "\n",
    "A few things to note:\n",
    "\n",
    "     -Most of the data isn't missing, so that's a plus - except for the promotion data. We'll remove the missing data because it's only one line and it specificially saya no media, etc so my thought is that it was used for testing purposes\n",
    "     -We'll change a few datatypes as most of them are objects that should be strings or ints or dates, for example\n",
    "     -Promotions will need some more work as the values look to be shifted over (as if they were originally in the same coulumn and someone used text to columns). To fix this I plan on making new values in the media_type for example media type can be both radio and tv, so we'll add them together"
   ]
  },
  {
   "cell_type": "markdown",
   "metadata": {},
   "source": [
    "#Data Cleaning"
   ]
  },
  {
   "cell_type": "code",
   "execution_count": 78,
   "metadata": {
    "collapsed": true
   },
   "outputs": [],
   "source": [
    "def to_float(x):\n",
    "    return float(x[1:-1])\n",
    "\n",
    "def to_str(x):\n",
    "    return str(x[1:-1])"
   ]
  },
  {
   "cell_type": "code",
   "execution_count": 79,
   "metadata": {
    "collapsed": false
   },
   "outputs": [],
   "source": [
    "product.brand_name = product.brand_name.apply(to_str)\n",
    "product.product_name = product.product_name.apply(to_str)\n",
    "product.SRP = product.SRP.apply(to_float)\n",
    "\n",
    "product_class.product_subcategory = product_class.product_subcategory.apply(to_str)\n",
    "product_class.product_category = product_class.product_category.apply(to_str)\n",
    "product_class.product_department = product_class.product_department.apply(to_str)\n",
    "product_class.product_family = product_class.product_family.apply(to_str)\n",
    "\n",
    "transactions.quarter = transactions.quarter.apply(to_str)\n",
    "transactions.store_sales = transactions.store_sales.apply(to_float)\n",
    "transactions.store_cost = transactions.store_cost.apply(to_float)\n",
    "transactions.unit_sales = transactions.unit_sales.apply(to_float)\n",
    "transactions.fact_count = transactions.fact_count.replace('1);',1) #deal with messy data\n",
    "transactions.fact_count = transactions.fact_count.apply(int)"
   ]
  },
  {
   "cell_type": "code",
   "execution_count": 80,
   "metadata": {
    "collapsed": false
   },
   "outputs": [
    {
     "data": {
      "text/html": [
       "<div>\n",
       "<table border=\"1\" class=\"dataframe\">\n",
       "  <thead>\n",
       "    <tr style=\"text-align: right;\">\n",
       "      <th></th>\n",
       "      <th>product_id</th>\n",
       "      <th>customer_id</th>\n",
       "      <th>store_id</th>\n",
       "      <th>promotion_id</th>\n",
       "      <th>month_of_year</th>\n",
       "      <th>quarter</th>\n",
       "      <th>the_year</th>\n",
       "      <th>store_sales</th>\n",
       "      <th>store_cost</th>\n",
       "      <th>unit_sales</th>\n",
       "      <th>fact_count</th>\n",
       "    </tr>\n",
       "  </thead>\n",
       "  <tbody>\n",
       "    <tr>\n",
       "      <th>0</th>\n",
       "      <td>1</td>\n",
       "      <td>157</td>\n",
       "      <td>24</td>\n",
       "      <td>1869</td>\n",
       "      <td>12</td>\n",
       "      <td>Q4</td>\n",
       "      <td>1997</td>\n",
       "      <td>8.55</td>\n",
       "      <td>2.9925</td>\n",
       "      <td>3</td>\n",
       "      <td>1</td>\n",
       "    </tr>\n",
       "    <tr>\n",
       "      <th>1</th>\n",
       "      <td>1</td>\n",
       "      <td>456</td>\n",
       "      <td>15</td>\n",
       "      <td>0</td>\n",
       "      <td>6</td>\n",
       "      <td>Q2</td>\n",
       "      <td>1997</td>\n",
       "      <td>11.40</td>\n",
       "      <td>4.3320</td>\n",
       "      <td>4</td>\n",
       "      <td>1</td>\n",
       "    </tr>\n",
       "    <tr>\n",
       "      <th>2</th>\n",
       "      <td>1</td>\n",
       "      <td>638</td>\n",
       "      <td>11</td>\n",
       "      <td>0</td>\n",
       "      <td>9</td>\n",
       "      <td>Q3</td>\n",
       "      <td>1997</td>\n",
       "      <td>8.55</td>\n",
       "      <td>2.9925</td>\n",
       "      <td>3</td>\n",
       "      <td>1</td>\n",
       "    </tr>\n",
       "    <tr>\n",
       "      <th>3</th>\n",
       "      <td>1</td>\n",
       "      <td>916</td>\n",
       "      <td>7</td>\n",
       "      <td>0</td>\n",
       "      <td>4</td>\n",
       "      <td>Q2</td>\n",
       "      <td>1997</td>\n",
       "      <td>11.40</td>\n",
       "      <td>4.9020</td>\n",
       "      <td>4</td>\n",
       "      <td>1</td>\n",
       "    </tr>\n",
       "    <tr>\n",
       "      <th>4</th>\n",
       "      <td>1</td>\n",
       "      <td>923</td>\n",
       "      <td>15</td>\n",
       "      <td>0</td>\n",
       "      <td>7</td>\n",
       "      <td>Q3</td>\n",
       "      <td>1997</td>\n",
       "      <td>8.55</td>\n",
       "      <td>2.7360</td>\n",
       "      <td>3</td>\n",
       "      <td>1</td>\n",
       "    </tr>\n",
       "  </tbody>\n",
       "</table>\n",
       "</div>"
      ],
      "text/plain": [
       "   product_id  customer_id  store_id  promotion_id  month_of_year quarter  \\\n",
       "0           1          157        24          1869             12      Q4   \n",
       "1           1          456        15             0              6      Q2   \n",
       "2           1          638        11             0              9      Q3   \n",
       "3           1          916         7             0              4      Q2   \n",
       "4           1          923        15             0              7      Q3   \n",
       "\n",
       "   the_year  store_sales  store_cost  unit_sales  fact_count  \n",
       "0      1997         8.55      2.9925           3           1  \n",
       "1      1997        11.40      4.3320           4           1  \n",
       "2      1997         8.55      2.9925           3           1  \n",
       "3      1997        11.40      4.9020           4           1  \n",
       "4      1997         8.55      2.7360           3           1  "
      ]
     },
     "execution_count": 80,
     "metadata": {},
     "output_type": "execute_result"
    }
   ],
   "source": [
    "transactions.head()"
   ]
  },
  {
   "cell_type": "markdown",
   "metadata": {},
   "source": [
    "**CLEANING PROMOTION**"
   ]
  },
  {
   "cell_type": "code",
   "execution_count": 81,
   "metadata": {
    "collapsed": false
   },
   "outputs": [
    {
     "data": {
      "text/html": [
       "<div>\n",
       "<table border=\"1\" class=\"dataframe\">\n",
       "  <thead>\n",
       "    <tr style=\"text-align: right;\">\n",
       "      <th></th>\n",
       "      <th>promotion_id</th>\n",
       "      <th>promotion_district_id</th>\n",
       "      <th>promotion_name</th>\n",
       "      <th>media_type</th>\n",
       "      <th>cost</th>\n",
       "      <th>start_date</th>\n",
       "      <th>end_date</th>\n",
       "      <th>filler_title</th>\n",
       "      <th>filler_title2</th>\n",
       "    </tr>\n",
       "  </thead>\n",
       "  <tbody>\n",
       "    <tr>\n",
       "      <th>0</th>\n",
       "      <td>1</td>\n",
       "      <td>110</td>\n",
       "      <td>'High Roller Savings'</td>\n",
       "      <td>'Product Attachment'</td>\n",
       "      <td>'14435.0000'</td>\n",
       "      <td>'1996-01-03 00:00:00'</td>\n",
       "      <td>'1996-01-06 00:00:00'</td>\n",
       "      <td>NaN</td>\n",
       "      <td>NaN</td>\n",
       "    </tr>\n",
       "    <tr>\n",
       "      <th>1</th>\n",
       "      <td>2</td>\n",
       "      <td>110</td>\n",
       "      <td>'Green Light Special'</td>\n",
       "      <td>'Product Attachment'</td>\n",
       "      <td>'8907.0000'</td>\n",
       "      <td>'1996-01-18 00:00:00'</td>\n",
       "      <td>'1996-01-20 00:00:00'</td>\n",
       "      <td>NaN</td>\n",
       "      <td>NaN</td>\n",
       "    </tr>\n",
       "    <tr>\n",
       "      <th>2</th>\n",
       "      <td>3</td>\n",
       "      <td>110</td>\n",
       "      <td>'Wallet Savers'</td>\n",
       "      <td>'Radio'</td>\n",
       "      <td>'12512.0000'</td>\n",
       "      <td>'1996-02-02 00:00:00'</td>\n",
       "      <td>'1996-02-05 00:00:00'</td>\n",
       "      <td>NaN</td>\n",
       "      <td>NaN</td>\n",
       "    </tr>\n",
       "    <tr>\n",
       "      <th>3</th>\n",
       "      <td>4</td>\n",
       "      <td>110</td>\n",
       "      <td>'Weekend Markdown'</td>\n",
       "      <td>'In-Store Coupon'</td>\n",
       "      <td>'11256.0000'</td>\n",
       "      <td>'1996-02-13 00:00:00'</td>\n",
       "      <td>'1996-02-15 00:00:00'</td>\n",
       "      <td>NaN</td>\n",
       "      <td>NaN</td>\n",
       "    </tr>\n",
       "    <tr>\n",
       "      <th>4</th>\n",
       "      <td>5</td>\n",
       "      <td>110</td>\n",
       "      <td>'Bag Stuffers'</td>\n",
       "      <td>'Sunday Paper</td>\n",
       "      <td>Radio'</td>\n",
       "      <td>'12275.0000'</td>\n",
       "      <td>'1996-02-28 00:00:00'</td>\n",
       "      <td>'1996-03-01 00:00:00'</td>\n",
       "      <td>NaN</td>\n",
       "    </tr>\n",
       "  </tbody>\n",
       "</table>\n",
       "</div>"
      ],
      "text/plain": [
       "   promotion_id  promotion_district_id         promotion_name  \\\n",
       "0             1                    110  'High Roller Savings'   \n",
       "1             2                    110  'Green Light Special'   \n",
       "2             3                    110        'Wallet Savers'   \n",
       "3             4                    110     'Weekend Markdown'   \n",
       "4             5                    110         'Bag Stuffers'   \n",
       "\n",
       "             media_type          cost             start_date  \\\n",
       "0  'Product Attachment'  '14435.0000'  '1996-01-03 00:00:00'   \n",
       "1  'Product Attachment'   '8907.0000'  '1996-01-18 00:00:00'   \n",
       "2               'Radio'  '12512.0000'  '1996-02-02 00:00:00'   \n",
       "3     'In-Store Coupon'  '11256.0000'  '1996-02-13 00:00:00'   \n",
       "4         'Sunday Paper        Radio'           '12275.0000'   \n",
       "\n",
       "                end_date           filler_title filler_title2  \n",
       "0  '1996-01-06 00:00:00'                    NaN           NaN  \n",
       "1  '1996-01-20 00:00:00'                    NaN           NaN  \n",
       "2  '1996-02-05 00:00:00'                    NaN           NaN  \n",
       "3  '1996-02-15 00:00:00'                    NaN           NaN  \n",
       "4  '1996-02-28 00:00:00'  '1996-03-01 00:00:00'           NaN  "
      ]
     },
     "execution_count": 81,
     "metadata": {},
     "output_type": "execute_result"
    }
   ],
   "source": [
    "promotion.head()"
   ]
  },
  {
   "cell_type": "code",
   "execution_count": 82,
   "metadata": {
    "collapsed": true
   },
   "outputs": [],
   "source": [
    "promotion.cost = promotion.cost.replace(\"Radio'\",\"Radio\")\n",
    "promotion.start_date = promotion.start_date.replace(\"TV'\",\"TV\")\n",
    "promotion.media_type = promotion.media_type.replace(\"'Daily Paper\",\"'Daily Paper'\")\n",
    "promotion.media_type = promotion.media_type.replace(\"'Sunday Paper\",\"'Sunday Paper'\")"
   ]
  },
  {
   "cell_type": "code",
   "execution_count": 83,
   "metadata": {
    "collapsed": true
   },
   "outputs": [],
   "source": [
    "promotion.media_type = promotion.media_type.apply(to_str)\n",
    "promotion.promotion_name = promotion.promotion_name.apply(to_str)"
   ]
  },
  {
   "cell_type": "code",
   "execution_count": 84,
   "metadata": {
    "collapsed": true
   },
   "outputs": [],
   "source": [
    "def get_media_type(df):\n",
    "    if (df.cost == \"Radio\") and (df.start_date == \"TV\"):\n",
    "        val = df.media_type + \" & Radio & TV\"\n",
    "    elif (df.cost == \"Radio\") and (df.start_date != \"TV\"):\n",
    "        val = df.media_type + \" & Radio\"\n",
    "    else:\n",
    "        val = df.media_type\n",
    "    return val"
   ]
  },
  {
   "cell_type": "code",
   "execution_count": 85,
   "metadata": {
    "collapsed": false
   },
   "outputs": [],
   "source": [
    "promotion[\"clean_media_type\"] = promotion.apply(get_media_type,axis =1)"
   ]
  },
  {
   "cell_type": "code",
   "execution_count": 86,
   "metadata": {
    "collapsed": false
   },
   "outputs": [
    {
     "data": {
      "text/html": [
       "<div>\n",
       "<table border=\"1\" class=\"dataframe\">\n",
       "  <thead>\n",
       "    <tr style=\"text-align: right;\">\n",
       "      <th></th>\n",
       "      <th>promotion_id</th>\n",
       "      <th>promotion_district_id</th>\n",
       "      <th>promotion_name</th>\n",
       "      <th>media_type</th>\n",
       "      <th>cost</th>\n",
       "      <th>start_date</th>\n",
       "      <th>end_date</th>\n",
       "      <th>filler_title</th>\n",
       "      <th>filler_title2</th>\n",
       "      <th>clean_media_type</th>\n",
       "    </tr>\n",
       "  </thead>\n",
       "  <tbody>\n",
       "    <tr>\n",
       "      <th>0</th>\n",
       "      <td>1</td>\n",
       "      <td>110</td>\n",
       "      <td>High Roller Savings</td>\n",
       "      <td>Product Attachment</td>\n",
       "      <td>'14435.0000'</td>\n",
       "      <td>'1996-01-03 00:00:00'</td>\n",
       "      <td>'1996-01-06 00:00:00'</td>\n",
       "      <td>NaN</td>\n",
       "      <td>NaN</td>\n",
       "      <td>Product Attachment</td>\n",
       "    </tr>\n",
       "    <tr>\n",
       "      <th>1</th>\n",
       "      <td>2</td>\n",
       "      <td>110</td>\n",
       "      <td>Green Light Special</td>\n",
       "      <td>Product Attachment</td>\n",
       "      <td>'8907.0000'</td>\n",
       "      <td>'1996-01-18 00:00:00'</td>\n",
       "      <td>'1996-01-20 00:00:00'</td>\n",
       "      <td>NaN</td>\n",
       "      <td>NaN</td>\n",
       "      <td>Product Attachment</td>\n",
       "    </tr>\n",
       "    <tr>\n",
       "      <th>2</th>\n",
       "      <td>3</td>\n",
       "      <td>110</td>\n",
       "      <td>Wallet Savers</td>\n",
       "      <td>Radio</td>\n",
       "      <td>'12512.0000'</td>\n",
       "      <td>'1996-02-02 00:00:00'</td>\n",
       "      <td>'1996-02-05 00:00:00'</td>\n",
       "      <td>NaN</td>\n",
       "      <td>NaN</td>\n",
       "      <td>Radio</td>\n",
       "    </tr>\n",
       "    <tr>\n",
       "      <th>3</th>\n",
       "      <td>4</td>\n",
       "      <td>110</td>\n",
       "      <td>Weekend Markdown</td>\n",
       "      <td>In-Store Coupon</td>\n",
       "      <td>'11256.0000'</td>\n",
       "      <td>'1996-02-13 00:00:00'</td>\n",
       "      <td>'1996-02-15 00:00:00'</td>\n",
       "      <td>NaN</td>\n",
       "      <td>NaN</td>\n",
       "      <td>In-Store Coupon</td>\n",
       "    </tr>\n",
       "    <tr>\n",
       "      <th>4</th>\n",
       "      <td>5</td>\n",
       "      <td>110</td>\n",
       "      <td>Bag Stuffers</td>\n",
       "      <td>Sunday Paper</td>\n",
       "      <td>Radio</td>\n",
       "      <td>'12275.0000'</td>\n",
       "      <td>'1996-02-28 00:00:00'</td>\n",
       "      <td>'1996-03-01 00:00:00'</td>\n",
       "      <td>NaN</td>\n",
       "      <td>Sunday Paper &amp; Radio</td>\n",
       "    </tr>\n",
       "  </tbody>\n",
       "</table>\n",
       "</div>"
      ],
      "text/plain": [
       "   promotion_id  promotion_district_id       promotion_name  \\\n",
       "0             1                    110  High Roller Savings   \n",
       "1             2                    110  Green Light Special   \n",
       "2             3                    110        Wallet Savers   \n",
       "3             4                    110     Weekend Markdown   \n",
       "4             5                    110         Bag Stuffers   \n",
       "\n",
       "           media_type          cost             start_date  \\\n",
       "0  Product Attachment  '14435.0000'  '1996-01-03 00:00:00'   \n",
       "1  Product Attachment   '8907.0000'  '1996-01-18 00:00:00'   \n",
       "2               Radio  '12512.0000'  '1996-02-02 00:00:00'   \n",
       "3     In-Store Coupon  '11256.0000'  '1996-02-13 00:00:00'   \n",
       "4        Sunday Paper         Radio           '12275.0000'   \n",
       "\n",
       "                end_date           filler_title filler_title2  \\\n",
       "0  '1996-01-06 00:00:00'                    NaN           NaN   \n",
       "1  '1996-01-20 00:00:00'                    NaN           NaN   \n",
       "2  '1996-02-05 00:00:00'                    NaN           NaN   \n",
       "3  '1996-02-15 00:00:00'                    NaN           NaN   \n",
       "4  '1996-02-28 00:00:00'  '1996-03-01 00:00:00'           NaN   \n",
       "\n",
       "       clean_media_type  \n",
       "0    Product Attachment  \n",
       "1    Product Attachment  \n",
       "2                 Radio  \n",
       "3       In-Store Coupon  \n",
       "4  Sunday Paper & Radio  "
      ]
     },
     "execution_count": 86,
     "metadata": {},
     "output_type": "execute_result"
    }
   ],
   "source": [
    "promotion.head()"
   ]
  },
  {
   "cell_type": "code",
   "execution_count": 87,
   "metadata": {
    "collapsed": true
   },
   "outputs": [],
   "source": [
    "def get_cost(df):\n",
    "    if (df.cost == \"Radio\") and (df.start_date == \"TV\"):\n",
    "        val = df.end_date\n",
    "    elif (df.cost == \"Radio\") and (df.start_date != \"TV\"):\n",
    "        val = df.start_date\n",
    "    else:\n",
    "        val = df.cost\n",
    "    return val"
   ]
  },
  {
   "cell_type": "code",
   "execution_count": 88,
   "metadata": {
    "collapsed": true
   },
   "outputs": [],
   "source": [
    "promotion[\"clean_cost\"] = promotion.apply(get_cost,axis =1)"
   ]
  },
  {
   "cell_type": "code",
   "execution_count": 89,
   "metadata": {
    "collapsed": true
   },
   "outputs": [],
   "source": [
    "def get_start_date(df):\n",
    "    if (df.cost == \"Radio\") and (df.start_date == \"TV\"):\n",
    "        val = df.filler_title\n",
    "    elif (df.cost == \"Radio\") and (df.start_date != \"TV\"):\n",
    "        val = df.end_date\n",
    "    else:\n",
    "        val = df.start_date\n",
    "    return val"
   ]
  },
  {
   "cell_type": "code",
   "execution_count": 90,
   "metadata": {
    "collapsed": true
   },
   "outputs": [],
   "source": [
    "promotion[\"clean_start_date\"] = promotion.apply(get_start_date,axis =1)"
   ]
  },
  {
   "cell_type": "code",
   "execution_count": 91,
   "metadata": {
    "collapsed": true
   },
   "outputs": [],
   "source": [
    "def get_end_date(df):\n",
    "    if (df.cost == \"Radio\") and (df.start_date == \"TV\"):\n",
    "        val = df.filler_title2\n",
    "    elif (df.cost == \"Radio\") and (df.start_date != \"TV\"):\n",
    "        val = df.filler_title\n",
    "    else:\n",
    "        val = df.end_date\n",
    "    return val"
   ]
  },
  {
   "cell_type": "code",
   "execution_count": 92,
   "metadata": {
    "collapsed": true
   },
   "outputs": [],
   "source": [
    "promotion[\"clean_end_date\"] = promotion.apply(get_end_date,axis =1)"
   ]
  },
  {
   "cell_type": "code",
   "execution_count": 93,
   "metadata": {
    "collapsed": true
   },
   "outputs": [],
   "source": [
    "promo_cols = ['promotion_id',\n",
    " 'promotion_district_id',\n",
    " 'promotion_name',\n",
    " 'clean_media_type',\n",
    " 'clean_cost',\n",
    " 'clean_start_date',\n",
    " 'clean_end_date']"
   ]
  },
  {
   "cell_type": "code",
   "execution_count": 94,
   "metadata": {
    "collapsed": false
   },
   "outputs": [],
   "source": [
    "promotion = promotion[promo_cols]\n",
    "promotion = promotion.rename(columns={\"clean_media_type\":\"media_type\",\"clean_cost\":\"cost\",\"clean_start_date\":\"start_date\",\"clean_end_date\":\"end_date\"})"
   ]
  },
  {
   "cell_type": "code",
   "execution_count": 95,
   "metadata": {
    "collapsed": true
   },
   "outputs": [],
   "source": [
    "promotion.cost = promotion.cost.apply(to_float)"
   ]
  },
  {
   "cell_type": "code",
   "execution_count": 96,
   "metadata": {
    "collapsed": true
   },
   "outputs": [],
   "source": [
    "def to_date(x):\n",
    "    return parser.parse(x[1:-1])"
   ]
  },
  {
   "cell_type": "code",
   "execution_count": 97,
   "metadata": {
    "collapsed": true
   },
   "outputs": [],
   "source": [
    "promotion.start_date = promotion.start_date.apply(to_date)\n",
    "promotion.end_date = promotion.end_date.apply(to_date)"
   ]
  },
  {
   "cell_type": "code",
   "execution_count": 98,
   "metadata": {
    "collapsed": false
   },
   "outputs": [
    {
     "data": {
      "text/html": [
       "<div>\n",
       "<table border=\"1\" class=\"dataframe\">\n",
       "  <thead>\n",
       "    <tr style=\"text-align: right;\">\n",
       "      <th></th>\n",
       "      <th>promotion_id</th>\n",
       "      <th>promotion_district_id</th>\n",
       "      <th>promotion_name</th>\n",
       "      <th>media_type</th>\n",
       "      <th>cost</th>\n",
       "      <th>start_date</th>\n",
       "      <th>end_date</th>\n",
       "    </tr>\n",
       "  </thead>\n",
       "  <tbody>\n",
       "    <tr>\n",
       "      <th>0</th>\n",
       "      <td>1</td>\n",
       "      <td>110</td>\n",
       "      <td>High Roller Savings</td>\n",
       "      <td>Product Attachment</td>\n",
       "      <td>14435</td>\n",
       "      <td>1996-01-03</td>\n",
       "      <td>1996-01-06</td>\n",
       "    </tr>\n",
       "    <tr>\n",
       "      <th>1</th>\n",
       "      <td>2</td>\n",
       "      <td>110</td>\n",
       "      <td>Green Light Special</td>\n",
       "      <td>Product Attachment</td>\n",
       "      <td>8907</td>\n",
       "      <td>1996-01-18</td>\n",
       "      <td>1996-01-20</td>\n",
       "    </tr>\n",
       "    <tr>\n",
       "      <th>2</th>\n",
       "      <td>3</td>\n",
       "      <td>110</td>\n",
       "      <td>Wallet Savers</td>\n",
       "      <td>Radio</td>\n",
       "      <td>12512</td>\n",
       "      <td>1996-02-02</td>\n",
       "      <td>1996-02-05</td>\n",
       "    </tr>\n",
       "    <tr>\n",
       "      <th>3</th>\n",
       "      <td>4</td>\n",
       "      <td>110</td>\n",
       "      <td>Weekend Markdown</td>\n",
       "      <td>In-Store Coupon</td>\n",
       "      <td>11256</td>\n",
       "      <td>1996-02-13</td>\n",
       "      <td>1996-02-15</td>\n",
       "    </tr>\n",
       "    <tr>\n",
       "      <th>4</th>\n",
       "      <td>5</td>\n",
       "      <td>110</td>\n",
       "      <td>Bag Stuffers</td>\n",
       "      <td>Sunday Paper &amp; Radio</td>\n",
       "      <td>12275</td>\n",
       "      <td>1996-02-28</td>\n",
       "      <td>1996-03-01</td>\n",
       "    </tr>\n",
       "  </tbody>\n",
       "</table>\n",
       "</div>"
      ],
      "text/plain": [
       "   promotion_id  promotion_district_id       promotion_name  \\\n",
       "0             1                    110  High Roller Savings   \n",
       "1             2                    110  Green Light Special   \n",
       "2             3                    110        Wallet Savers   \n",
       "3             4                    110     Weekend Markdown   \n",
       "4             5                    110         Bag Stuffers   \n",
       "\n",
       "             media_type   cost start_date   end_date  \n",
       "0    Product Attachment  14435 1996-01-03 1996-01-06  \n",
       "1    Product Attachment   8907 1996-01-18 1996-01-20  \n",
       "2                 Radio  12512 1996-02-02 1996-02-05  \n",
       "3       In-Store Coupon  11256 1996-02-13 1996-02-15  \n",
       "4  Sunday Paper & Radio  12275 1996-02-28 1996-03-01  "
      ]
     },
     "execution_count": 98,
     "metadata": {},
     "output_type": "execute_result"
    }
   ],
   "source": [
    "promotion.head()"
   ]
  },
  {
   "cell_type": "code",
   "execution_count": 99,
   "metadata": {
    "collapsed": false
   },
   "outputs": [
    {
     "data": {
      "text/plain": [
       "promotion_id                      int64\n",
       "promotion_district_id             int64\n",
       "promotion_name                   object\n",
       "media_type                       object\n",
       "cost                            float64\n",
       "start_date               datetime64[ns]\n",
       "end_date                 datetime64[ns]\n",
       "dtype: object"
      ]
     },
     "execution_count": 99,
     "metadata": {},
     "output_type": "execute_result"
    }
   ],
   "source": [
    "promotion.dtypes"
   ]
  },
  {
   "cell_type": "code",
   "execution_count": 100,
   "metadata": {
    "collapsed": false
   },
   "outputs": [
    {
     "data": {
      "text/plain": [
       "promotion_id             1863\n",
       "promotion_district_id    1863\n",
       "promotion_name           1863\n",
       "media_type               1863\n",
       "cost                     1863\n",
       "start_date               1863\n",
       "end_date                 1863\n",
       "dtype: int64"
      ]
     },
     "execution_count": 100,
     "metadata": {},
     "output_type": "execute_result"
    }
   ],
   "source": [
    "promotion.count()"
   ]
  },
  {
   "cell_type": "markdown",
   "metadata": {},
   "source": [
    "For the promotion data, I wrote a few functions to combine data from other columns based on conditional factors in other columns. This allowed me to have all of the clean data in each column and then we just had to drop the dirty data. I also went ahead and changed the date types to datetime objects incase any analysis needed to be done with those. Finally, I again checked the data, data types, and counts just to make sure everything looked as expected."
   ]
  },
  {
   "cell_type": "markdown",
   "metadata": {},
   "source": [
    "#Question 1\n",
    "\n",
    "Management is trying to better understand what is happening at these food marts. To that end, please create some visualizations to help us better understand the following dimensions of the Foodmart data:\n",
    "\n",
    "- Category of products sold\n",
    "- Brand of products sold"
   ]
  },
  {
   "cell_type": "markdown",
   "metadata": {},
   "source": [
    "The first thing i'll do is join some of the data so that we can see the full product dataset."
   ]
  },
  {
   "cell_type": "code",
   "execution_count": 101,
   "metadata": {
    "collapsed": false
   },
   "outputs": [
    {
     "data": {
      "text/html": [
       "<div>\n",
       "<table border=\"1\" class=\"dataframe\">\n",
       "  <thead>\n",
       "    <tr style=\"text-align: right;\">\n",
       "      <th></th>\n",
       "      <th>product_class_id</th>\n",
       "      <th>product_id</th>\n",
       "      <th>brand_name</th>\n",
       "      <th>product_name</th>\n",
       "      <th>SKU</th>\n",
       "      <th>SRP</th>\n",
       "      <th>gross_weight</th>\n",
       "      <th>net_weight</th>\n",
       "      <th>recyclable_package</th>\n",
       "      <th>low_fat</th>\n",
       "      <th>units_per_case</th>\n",
       "      <th>cases_per_pallet</th>\n",
       "      <th>shelf_width</th>\n",
       "      <th>shelf_height</th>\n",
       "      <th>shelf_depth</th>\n",
       "      <th>product_subcategory</th>\n",
       "      <th>product_category</th>\n",
       "      <th>product_department</th>\n",
       "      <th>product_family</th>\n",
       "    </tr>\n",
       "  </thead>\n",
       "  <tbody>\n",
       "    <tr>\n",
       "      <th>0</th>\n",
       "      <td>30</td>\n",
       "      <td>1</td>\n",
       "      <td>Washington</td>\n",
       "      <td>Washington Berry Juice</td>\n",
       "      <td>90748583674</td>\n",
       "      <td>2.85</td>\n",
       "      <td>8.39</td>\n",
       "      <td>6.39</td>\n",
       "      <td>0</td>\n",
       "      <td>0</td>\n",
       "      <td>30</td>\n",
       "      <td>14</td>\n",
       "      <td>16.9</td>\n",
       "      <td>12.60</td>\n",
       "      <td>7.40</td>\n",
       "      <td>Juice</td>\n",
       "      <td>Pure Juice Beverages</td>\n",
       "      <td>Beverages</td>\n",
       "      <td>Drink</td>\n",
       "    </tr>\n",
       "    <tr>\n",
       "      <th>1</th>\n",
       "      <td>52</td>\n",
       "      <td>2</td>\n",
       "      <td>Washington</td>\n",
       "      <td>Washington Mango Drink</td>\n",
       "      <td>96516502499</td>\n",
       "      <td>0.74</td>\n",
       "      <td>7.42</td>\n",
       "      <td>4.42</td>\n",
       "      <td>0</td>\n",
       "      <td>1</td>\n",
       "      <td>18</td>\n",
       "      <td>8</td>\n",
       "      <td>13.4</td>\n",
       "      <td>3.71</td>\n",
       "      <td>22.60</td>\n",
       "      <td>Flavored Drinks</td>\n",
       "      <td>Drinks</td>\n",
       "      <td>Beverages</td>\n",
       "      <td>Drink</td>\n",
       "    </tr>\n",
       "    <tr>\n",
       "      <th>2</th>\n",
       "      <td>52</td>\n",
       "      <td>3</td>\n",
       "      <td>Washington</td>\n",
       "      <td>Washington Strawberry Drink</td>\n",
       "      <td>58427771925</td>\n",
       "      <td>0.83</td>\n",
       "      <td>13.10</td>\n",
       "      <td>11.10</td>\n",
       "      <td>1</td>\n",
       "      <td>1</td>\n",
       "      <td>17</td>\n",
       "      <td>13</td>\n",
       "      <td>14.4</td>\n",
       "      <td>11.00</td>\n",
       "      <td>7.77</td>\n",
       "      <td>Flavored Drinks</td>\n",
       "      <td>Drinks</td>\n",
       "      <td>Beverages</td>\n",
       "      <td>Drink</td>\n",
       "    </tr>\n",
       "    <tr>\n",
       "      <th>3</th>\n",
       "      <td>19</td>\n",
       "      <td>4</td>\n",
       "      <td>Washington</td>\n",
       "      <td>Washington Cream Soda</td>\n",
       "      <td>64412155747</td>\n",
       "      <td>3.64</td>\n",
       "      <td>10.60</td>\n",
       "      <td>9.60</td>\n",
       "      <td>1</td>\n",
       "      <td>0</td>\n",
       "      <td>26</td>\n",
       "      <td>10</td>\n",
       "      <td>22.9</td>\n",
       "      <td>18.90</td>\n",
       "      <td>7.93</td>\n",
       "      <td>Soda</td>\n",
       "      <td>Carbonated Beverages</td>\n",
       "      <td>Beverages</td>\n",
       "      <td>Drink</td>\n",
       "    </tr>\n",
       "    <tr>\n",
       "      <th>4</th>\n",
       "      <td>19</td>\n",
       "      <td>5</td>\n",
       "      <td>Washington</td>\n",
       "      <td>Washington Diet Soda</td>\n",
       "      <td>85561191439</td>\n",
       "      <td>2.19</td>\n",
       "      <td>6.66</td>\n",
       "      <td>4.65</td>\n",
       "      <td>1</td>\n",
       "      <td>0</td>\n",
       "      <td>7</td>\n",
       "      <td>10</td>\n",
       "      <td>20.7</td>\n",
       "      <td>21.90</td>\n",
       "      <td>19.20</td>\n",
       "      <td>Soda</td>\n",
       "      <td>Carbonated Beverages</td>\n",
       "      <td>Beverages</td>\n",
       "      <td>Drink</td>\n",
       "    </tr>\n",
       "  </tbody>\n",
       "</table>\n",
       "</div>"
      ],
      "text/plain": [
       "   product_class_id  product_id  brand_name                 product_name  \\\n",
       "0                30           1  Washington       Washington Berry Juice   \n",
       "1                52           2  Washington       Washington Mango Drink   \n",
       "2                52           3  Washington  Washington Strawberry Drink   \n",
       "3                19           4  Washington        Washington Cream Soda   \n",
       "4                19           5  Washington         Washington Diet Soda   \n",
       "\n",
       "           SKU   SRP  gross_weight  net_weight  recyclable_package  low_fat  \\\n",
       "0  90748583674  2.85          8.39        6.39                   0        0   \n",
       "1  96516502499  0.74          7.42        4.42                   0        1   \n",
       "2  58427771925  0.83         13.10       11.10                   1        1   \n",
       "3  64412155747  3.64         10.60        9.60                   1        0   \n",
       "4  85561191439  2.19          6.66        4.65                   1        0   \n",
       "\n",
       "   units_per_case  cases_per_pallet  shelf_width  shelf_height  shelf_depth  \\\n",
       "0              30                14         16.9         12.60         7.40   \n",
       "1              18                 8         13.4          3.71        22.60   \n",
       "2              17                13         14.4         11.00         7.77   \n",
       "3              26                10         22.9         18.90         7.93   \n",
       "4               7                10         20.7         21.90        19.20   \n",
       "\n",
       "  product_subcategory      product_category product_department product_family  \n",
       "0               Juice  Pure Juice Beverages          Beverages          Drink  \n",
       "1     Flavored Drinks                Drinks          Beverages          Drink  \n",
       "2     Flavored Drinks                Drinks          Beverages          Drink  \n",
       "3                Soda  Carbonated Beverages          Beverages          Drink  \n",
       "4                Soda  Carbonated Beverages          Beverages          Drink  "
      ]
     },
     "execution_count": 101,
     "metadata": {},
     "output_type": "execute_result"
    }
   ],
   "source": [
    "product_data = pd.merge(product,product_class,how = \"left\",on =\"product_class_id\")\n",
    "product_data.head()"
   ]
  },
  {
   "cell_type": "markdown",
   "metadata": {},
   "source": [
    "**Top 10 Selling Product Categories**"
   ]
  },
  {
   "cell_type": "code",
   "execution_count": 102,
   "metadata": {
    "collapsed": false
   },
   "outputs": [
    {
     "data": {
      "text/plain": [
       "<matplotlib.text.Text at 0x11e677cd0>"
      ]
     },
     "execution_count": 102,
     "metadata": {},
     "output_type": "execute_result"
    },
    {
     "data": {
      "image/png": "[encoded data removed]",
      "text/plain": [
       "<matplotlib.figure.Figure at 0x11e6341d0>"
      ]
     },
     "metadata": {},
     "output_type": "display_data"
    }
   ],
   "source": [
    "g = sns.factorplot(x=\"product_category\", data=product_data, kind=\"count\",\n",
    "                   palette=\"Paired\", size=10, aspect=1.5, order=product_data.product_category.value_counts().iloc[:10].index)\n",
    "sns.plt.title('Top 10 Selling Categories',fontsize=15)"
   ]
  },
  {
   "cell_type": "markdown",
   "metadata": {},
   "source": [
    "**Bottom 10 Selling Product Categories**"
   ]
  },
  {
   "cell_type": "code",
   "execution_count": 103,
   "metadata": {
    "collapsed": false
   },
   "outputs": [
    {
     "data": {
      "text/plain": [
       "<matplotlib.text.Text at 0x112700e50>"
      ]
     },
     "execution_count": 103,
     "metadata": {},
     "output_type": "execute_result"
    },
    {
     "data": {
      "image/png": "[encoded data removed]",
      "text/plain": [
       "<matplotlib.figure.Figure at 0x11e634490>"
      ]
     },
     "metadata": {},
     "output_type": "display_data"
    }
   ],
   "source": [
    "g = sns.factorplot(x=\"product_category\", data=product_data, kind=\"count\",\n",
    "                   palette=\"Paired\", size=10, aspect=1.5, order=product_data.product_category.value_counts().iloc[-10:].index)\n",
    "sns.plt.title('Bottom 10 Selling Categories',fontsize=15)"
   ]
  },
  {
   "cell_type": "markdown",
   "metadata": {},
   "source": [
    "**Top 10 Selling Brands**"
   ]
  },
  {
   "cell_type": "code",
   "execution_count": 104,
   "metadata": {
    "collapsed": false
   },
   "outputs": [
    {
     "data": {
      "text/plain": [
       "<matplotlib.text.Text at 0x11a3e6050>"
      ]
     },
     "execution_count": 104,
     "metadata": {},
     "output_type": "execute_result"
    },
    {
     "data": {
      "image/png": "[encoded data removed]",
      "text/plain": [
       "<matplotlib.figure.Figure at 0x118af9ed0>"
      ]
     },
     "metadata": {},
     "output_type": "display_data"
    }
   ],
   "source": [
    "g = sns.factorplot(x=\"brand_name\", data=product_data, kind=\"count\",\n",
    "                   palette=\"Paired\", size=10, aspect=1.5, order=product_data.brand_name.value_counts().iloc[:10].index)\n",
    "sns.plt.title('Top 10 Selling Brands',fontsize=15)"
   ]
  },
  {
   "cell_type": "markdown",
   "metadata": {},
   "source": [
    "**Bottom 10 Selling Brand Name**"
   ]
  },
  {
   "cell_type": "code",
   "execution_count": 105,
   "metadata": {
    "collapsed": false
   },
   "outputs": [
    {
     "data": {
      "text/plain": [
       "<matplotlib.text.Text at 0x11844eb10>"
      ]
     },
     "execution_count": 105,
     "metadata": {},
     "output_type": "execute_result"
    },
    {
     "data": {
      "image/png": "[encoded data removed]",
      "text/plain": [
       "<matplotlib.figure.Figure at 0x11a3d1e90>"
      ]
     },
     "metadata": {},
     "output_type": "display_data"
    }
   ],
   "source": [
    "g = sns.factorplot(x=\"brand_name\", data=product_data, kind=\"count\",\n",
    "                   palette=\"Paired\", size=10, aspect=1.5, order=product_data.brand_name.value_counts().iloc[-10:].index)\n",
    "sns.plt.title('Bottom 10 Selling Brands',fontsize=15)"
   ]
  },
  {
   "cell_type": "markdown",
   "metadata": {},
   "source": [
    "While it's nice to see how the categories and brands are doing overall, it might be more helpful to look at how they're doing through out the year. We can use the transaction data to see how these same groups performed over the year by quarter. Lets just look at how the top 10 by product category and brand."
   ]
  },
  {
   "cell_type": "code",
   "execution_count": 106,
   "metadata": {
    "collapsed": false
   },
   "outputs": [],
   "source": [
    "product_data_quarter =  pd.merge(product_data,transactions,how=\"left\",on=\"product_id\")"
   ]
  },
  {
   "cell_type": "code",
   "execution_count": 107,
   "metadata": {
    "collapsed": false
   },
   "outputs": [
    {
     "data": {
      "text/plain": [
       "<matplotlib.text.Text at 0x11a449dd0>"
      ]
     },
     "execution_count": 107,
     "metadata": {},
     "output_type": "execute_result"
    },
    {
     "data": {
      "image/png": "[encoded data removed]",
      "text/plain": [
       "<matplotlib.figure.Figure at 0x1184a6610>"
      ]
     },
     "metadata": {},
     "output_type": "display_data"
    }
   ],
   "source": [
    "g = sns.factorplot(x=\"product_category\",hue = \"quarter\", data=product_data_quarter, kind=\"count\",\n",
    "                   palette=\"Paired\", size=10, aspect=1.5, order=product_data.product_category.value_counts().iloc[:10].index, hue_order =[\"Q1\",\"Q2\",\"Q3\",\"Q4\"])\n",
    "sns.plt.title('Top 10 Selling Categories by Quarter',fontsize=15)"
   ]
  },
  {
   "cell_type": "code",
   "execution_count": 108,
   "metadata": {
    "collapsed": false
   },
   "outputs": [
    {
     "data": {
      "text/plain": [
       "<matplotlib.text.Text at 0x11a84c190>"
      ]
     },
     "execution_count": 108,
     "metadata": {},
     "output_type": "execute_result"
    },
    {
     "data": {
      "image/png": "[encoded data removed]",
      "text/plain": [
       "<matplotlib.figure.Figure at 0x112f07810>"
      ]
     },
     "metadata": {},
     "output_type": "display_data"
    }
   ],
   "source": [
    "g = sns.factorplot(x=\"brand_name\",hue = \"quarter\", data=product_data_quarter, kind=\"count\",\n",
    "                   palette=\"Paired\", size=10, aspect=1.5, order=product_data.brand_name.value_counts().iloc[:10].index, hue_order =[\"Q1\",\"Q2\",\"Q3\",\"Q4\"])\n",
    "sns.plt.title('Top 10 Selling Brands by Quarter',fontsize=15)"
   ]
  },
  {
   "cell_type": "markdown",
   "metadata": {},
   "source": [
    "These views give us a more granular look at how these products and brands are performing. For example, we can see that for the categories, most of them followed a similar trend of doing well in Q1, slowing down a bit in Q2 and Q3, and then performing well in Q4."
   ]
  },
  {
   "cell_type": "markdown",
   "metadata": {},
   "source": [
    "#Question 2\n",
    "\n",
    "Foodmart is developing their strategy for the next year. One of their goals is to increase sales and profitability. Please provide the executive team with insights from the data that highlight growth opportunities. Here are some ideas to get you started:\n",
    "\n",
    "- Expand product offerings: which products or categories should we expand and why?\n",
    "- Offer more promotions: how should we target our promotions and why?\n",
    "- Market to a certain customer segment: what segment of customers should we market to and how?\n",
    "\n",
    "Feel free to think of other ideas. Please focus on only 1 to 2 opportunities and provide an executive summary of your recommendations, the potential impact, and what data you found to support your strategy."
   ]
  },
  {
   "cell_type": "markdown",
   "metadata": {},
   "source": [
    "**Market to a certain customer segment: what segment of customers should we market to and how?**"
   ]
  },
  {
   "cell_type": "code",
   "execution_count": 109,
   "metadata": {
    "collapsed": false
   },
   "outputs": [
    {
     "data": {
      "image/png": "[encoded data removed]",
      "text/plain": [
       "<matplotlib.figure.Figure at 0x11b429510>"
      ]
     },
     "metadata": {},
     "output_type": "display_data"
    }
   ],
   "source": [
    "g = sns.factorplot(x=\"product_category\", data=product_data_quarter, kind=\"count\",\n",
    "                   palette=\"Paired\", size=10, aspect=1.5, order=product_data.product_category.value_counts().iloc[-10:].index)\n",
    "sns.plt.title('Bottom 10 Selling Categories',fontsize=15)\n",
    "g.savefig(\"output.png\",format='eps', dpi=900)"
   ]
  },
  {
   "cell_type": "markdown",
   "metadata": {},
   "source": [
    "##Apriori Data Set Up"
   ]
  },
  {
   "cell_type": "code",
   "execution_count": 110,
   "metadata": {
    "collapsed": false
   },
   "outputs": [
    {
     "data": {
      "text/html": [
       "<div>\n",
       "<table border=\"1\" class=\"dataframe\">\n",
       "  <thead>\n",
       "    <tr style=\"text-align: right;\">\n",
       "      <th></th>\n",
       "      <th>product_id</th>\n",
       "      <th>customer_id</th>\n",
       "      <th>store_id</th>\n",
       "      <th>promotion_id</th>\n",
       "      <th>month_of_year</th>\n",
       "      <th>quarter</th>\n",
       "      <th>the_year</th>\n",
       "      <th>store_sales</th>\n",
       "      <th>store_cost</th>\n",
       "      <th>unit_sales</th>\n",
       "      <th>fact_count</th>\n",
       "    </tr>\n",
       "  </thead>\n",
       "  <tbody>\n",
       "    <tr>\n",
       "      <th>0</th>\n",
       "      <td>1</td>\n",
       "      <td>157</td>\n",
       "      <td>24</td>\n",
       "      <td>1869</td>\n",
       "      <td>12</td>\n",
       "      <td>Q4</td>\n",
       "      <td>1997</td>\n",
       "      <td>8.55</td>\n",
       "      <td>2.9925</td>\n",
       "      <td>3</td>\n",
       "      <td>1</td>\n",
       "    </tr>\n",
       "    <tr>\n",
       "      <th>1</th>\n",
       "      <td>1</td>\n",
       "      <td>456</td>\n",
       "      <td>15</td>\n",
       "      <td>0</td>\n",
       "      <td>6</td>\n",
       "      <td>Q2</td>\n",
       "      <td>1997</td>\n",
       "      <td>11.40</td>\n",
       "      <td>4.3320</td>\n",
       "      <td>4</td>\n",
       "      <td>1</td>\n",
       "    </tr>\n",
       "    <tr>\n",
       "      <th>2</th>\n",
       "      <td>1</td>\n",
       "      <td>638</td>\n",
       "      <td>11</td>\n",
       "      <td>0</td>\n",
       "      <td>9</td>\n",
       "      <td>Q3</td>\n",
       "      <td>1997</td>\n",
       "      <td>8.55</td>\n",
       "      <td>2.9925</td>\n",
       "      <td>3</td>\n",
       "      <td>1</td>\n",
       "    </tr>\n",
       "    <tr>\n",
       "      <th>3</th>\n",
       "      <td>1</td>\n",
       "      <td>916</td>\n",
       "      <td>7</td>\n",
       "      <td>0</td>\n",
       "      <td>4</td>\n",
       "      <td>Q2</td>\n",
       "      <td>1997</td>\n",
       "      <td>11.40</td>\n",
       "      <td>4.9020</td>\n",
       "      <td>4</td>\n",
       "      <td>1</td>\n",
       "    </tr>\n",
       "    <tr>\n",
       "      <th>4</th>\n",
       "      <td>1</td>\n",
       "      <td>923</td>\n",
       "      <td>15</td>\n",
       "      <td>0</td>\n",
       "      <td>7</td>\n",
       "      <td>Q3</td>\n",
       "      <td>1997</td>\n",
       "      <td>8.55</td>\n",
       "      <td>2.7360</td>\n",
       "      <td>3</td>\n",
       "      <td>1</td>\n",
       "    </tr>\n",
       "  </tbody>\n",
       "</table>\n",
       "</div>"
      ],
      "text/plain": [
       "   product_id  customer_id  store_id  promotion_id  month_of_year quarter  \\\n",
       "0           1          157        24          1869             12      Q4   \n",
       "1           1          456        15             0              6      Q2   \n",
       "2           1          638        11             0              9      Q3   \n",
       "3           1          916         7             0              4      Q2   \n",
       "4           1          923        15             0              7      Q3   \n",
       "\n",
       "   the_year  store_sales  store_cost  unit_sales  fact_count  \n",
       "0      1997         8.55      2.9925           3           1  \n",
       "1      1997        11.40      4.3320           4           1  \n",
       "2      1997         8.55      2.9925           3           1  \n",
       "3      1997        11.40      4.9020           4           1  \n",
       "4      1997         8.55      2.7360           3           1  "
      ]
     },
     "execution_count": 110,
     "metadata": {},
     "output_type": "execute_result"
    }
   ],
   "source": [
    "transactions.head()"
   ]
  },
  {
   "cell_type": "code",
   "execution_count": 111,
   "metadata": {
    "collapsed": false
   },
   "outputs": [
    {
     "data": {
      "text/html": [
       "<div>\n",
       "<table border=\"1\" class=\"dataframe\">\n",
       "  <thead>\n",
       "    <tr style=\"text-align: right;\">\n",
       "      <th></th>\n",
       "      <th>product_class_id</th>\n",
       "      <th>product_id</th>\n",
       "      <th>brand_name</th>\n",
       "      <th>product_name</th>\n",
       "      <th>SKU</th>\n",
       "      <th>SRP</th>\n",
       "      <th>gross_weight</th>\n",
       "      <th>net_weight</th>\n",
       "      <th>recyclable_package</th>\n",
       "      <th>low_fat</th>\n",
       "      <th>units_per_case</th>\n",
       "      <th>cases_per_pallet</th>\n",
       "      <th>shelf_width</th>\n",
       "      <th>shelf_height</th>\n",
       "      <th>shelf_depth</th>\n",
       "    </tr>\n",
       "  </thead>\n",
       "  <tbody>\n",
       "    <tr>\n",
       "      <th>0</th>\n",
       "      <td>30</td>\n",
       "      <td>1</td>\n",
       "      <td>Washington</td>\n",
       "      <td>Washington Berry Juice</td>\n",
       "      <td>90748583674</td>\n",
       "      <td>2.85</td>\n",
       "      <td>8.39</td>\n",
       "      <td>6.39</td>\n",
       "      <td>0</td>\n",
       "      <td>0</td>\n",
       "      <td>30</td>\n",
       "      <td>14</td>\n",
       "      <td>16.9</td>\n",
       "      <td>12.60</td>\n",
       "      <td>7.40</td>\n",
       "    </tr>\n",
       "    <tr>\n",
       "      <th>1</th>\n",
       "      <td>52</td>\n",
       "      <td>2</td>\n",
       "      <td>Washington</td>\n",
       "      <td>Washington Mango Drink</td>\n",
       "      <td>96516502499</td>\n",
       "      <td>0.74</td>\n",
       "      <td>7.42</td>\n",
       "      <td>4.42</td>\n",
       "      <td>0</td>\n",
       "      <td>1</td>\n",
       "      <td>18</td>\n",
       "      <td>8</td>\n",
       "      <td>13.4</td>\n",
       "      <td>3.71</td>\n",
       "      <td>22.60</td>\n",
       "    </tr>\n",
       "    <tr>\n",
       "      <th>2</th>\n",
       "      <td>52</td>\n",
       "      <td>3</td>\n",
       "      <td>Washington</td>\n",
       "      <td>Washington Strawberry Drink</td>\n",
       "      <td>58427771925</td>\n",
       "      <td>0.83</td>\n",
       "      <td>13.10</td>\n",
       "      <td>11.10</td>\n",
       "      <td>1</td>\n",
       "      <td>1</td>\n",
       "      <td>17</td>\n",
       "      <td>13</td>\n",
       "      <td>14.4</td>\n",
       "      <td>11.00</td>\n",
       "      <td>7.77</td>\n",
       "    </tr>\n",
       "    <tr>\n",
       "      <th>3</th>\n",
       "      <td>19</td>\n",
       "      <td>4</td>\n",
       "      <td>Washington</td>\n",
       "      <td>Washington Cream Soda</td>\n",
       "      <td>64412155747</td>\n",
       "      <td>3.64</td>\n",
       "      <td>10.60</td>\n",
       "      <td>9.60</td>\n",
       "      <td>1</td>\n",
       "      <td>0</td>\n",
       "      <td>26</td>\n",
       "      <td>10</td>\n",
       "      <td>22.9</td>\n",
       "      <td>18.90</td>\n",
       "      <td>7.93</td>\n",
       "    </tr>\n",
       "    <tr>\n",
       "      <th>4</th>\n",
       "      <td>19</td>\n",
       "      <td>5</td>\n",
       "      <td>Washington</td>\n",
       "      <td>Washington Diet Soda</td>\n",
       "      <td>85561191439</td>\n",
       "      <td>2.19</td>\n",
       "      <td>6.66</td>\n",
       "      <td>4.65</td>\n",
       "      <td>1</td>\n",
       "      <td>0</td>\n",
       "      <td>7</td>\n",
       "      <td>10</td>\n",
       "      <td>20.7</td>\n",
       "      <td>21.90</td>\n",
       "      <td>19.20</td>\n",
       "    </tr>\n",
       "  </tbody>\n",
       "</table>\n",
       "</div>"
      ],
      "text/plain": [
       "   product_class_id  product_id  brand_name                 product_name  \\\n",
       "0                30           1  Washington       Washington Berry Juice   \n",
       "1                52           2  Washington       Washington Mango Drink   \n",
       "2                52           3  Washington  Washington Strawberry Drink   \n",
       "3                19           4  Washington        Washington Cream Soda   \n",
       "4                19           5  Washington         Washington Diet Soda   \n",
       "\n",
       "           SKU   SRP  gross_weight  net_weight  recyclable_package  low_fat  \\\n",
       "0  90748583674  2.85          8.39        6.39                   0        0   \n",
       "1  96516502499  0.74          7.42        4.42                   0        1   \n",
       "2  58427771925  0.83         13.10       11.10                   1        1   \n",
       "3  64412155747  3.64         10.60        9.60                   1        0   \n",
       "4  85561191439  2.19          6.66        4.65                   1        0   \n",
       "\n",
       "   units_per_case  cases_per_pallet  shelf_width  shelf_height  shelf_depth  \n",
       "0              30                14         16.9         12.60         7.40  \n",
       "1              18                 8         13.4          3.71        22.60  \n",
       "2              17                13         14.4         11.00         7.77  \n",
       "3              26                10         22.9         18.90         7.93  \n",
       "4               7                10         20.7         21.90        19.20  "
      ]
     },
     "execution_count": 111,
     "metadata": {},
     "output_type": "execute_result"
    }
   ],
   "source": [
    "product.head()"
   ]
  },
  {
   "cell_type": "code",
   "execution_count": 112,
   "metadata": {
    "collapsed": false
   },
   "outputs": [
    {
     "data": {
      "text/html": [
       "<div>\n",
       "<table border=\"1\" class=\"dataframe\">\n",
       "  <thead>\n",
       "    <tr style=\"text-align: right;\">\n",
       "      <th></th>\n",
       "      <th>product_class_id</th>\n",
       "      <th>product_subcategory</th>\n",
       "      <th>product_category</th>\n",
       "      <th>product_department</th>\n",
       "      <th>product_family</th>\n",
       "    </tr>\n",
       "  </thead>\n",
       "  <tbody>\n",
       "    <tr>\n",
       "      <th>0</th>\n",
       "      <td>1</td>\n",
       "      <td>Nuts</td>\n",
       "      <td>Specialty</td>\n",
       "      <td>Produce</td>\n",
       "      <td>Food</td>\n",
       "    </tr>\n",
       "    <tr>\n",
       "      <th>1</th>\n",
       "      <td>2</td>\n",
       "      <td>Shellfish</td>\n",
       "      <td>Seafood</td>\n",
       "      <td>Seafood</td>\n",
       "      <td>Food</td>\n",
       "    </tr>\n",
       "    <tr>\n",
       "      <th>2</th>\n",
       "      <td>3</td>\n",
       "      <td>Canned Fruit</td>\n",
       "      <td>Fruit</td>\n",
       "      <td>Canned Products</td>\n",
       "      <td>Food</td>\n",
       "    </tr>\n",
       "    <tr>\n",
       "      <th>3</th>\n",
       "      <td>4</td>\n",
       "      <td>Spices</td>\n",
       "      <td>Baking Goods</td>\n",
       "      <td>Baking Goods</td>\n",
       "      <td>Food</td>\n",
       "    </tr>\n",
       "    <tr>\n",
       "      <th>4</th>\n",
       "      <td>5</td>\n",
       "      <td>Pasta</td>\n",
       "      <td>Starchy Foods</td>\n",
       "      <td>Starchy Foods</td>\n",
       "      <td>Food</td>\n",
       "    </tr>\n",
       "  </tbody>\n",
       "</table>\n",
       "</div>"
      ],
      "text/plain": [
       "   product_class_id product_subcategory product_category product_department  \\\n",
       "0                 1                Nuts        Specialty            Produce   \n",
       "1                 2           Shellfish          Seafood            Seafood   \n",
       "2                 3        Canned Fruit            Fruit    Canned Products   \n",
       "3                 4              Spices     Baking Goods       Baking Goods   \n",
       "4                 5               Pasta    Starchy Foods      Starchy Foods   \n",
       "\n",
       "  product_family  \n",
       "0           Food  \n",
       "1           Food  \n",
       "2           Food  \n",
       "3           Food  \n",
       "4           Food  "
      ]
     },
     "execution_count": 112,
     "metadata": {},
     "output_type": "execute_result"
    }
   ],
   "source": [
    "product_class.head()"
   ]
  },
  {
   "cell_type": "code",
   "execution_count": 113,
   "metadata": {
    "collapsed": true
   },
   "outputs": [],
   "source": [
    "transactions_merged = pd.merge(transactions,product, how= \"left\", on= \"product_id\")\n",
    "transactions_product = pd.merge(transactions_merged,product_class, how= \"left\", on= \"product_class_id\")"
   ]
  },
  {
   "cell_type": "code",
   "execution_count": 114,
   "metadata": {
    "collapsed": true
   },
   "outputs": [],
   "source": [
    "cols = [\"store_id\",\"promotion_id\",\"month_of_year\",\"quarter\",\"product_category\"]"
   ]
  },
  {
   "cell_type": "code",
   "execution_count": 115,
   "metadata": {
    "collapsed": false
   },
   "outputs": [],
   "source": [
    "apriori_data = transactions_product[cols]"
   ]
  },
  {
   "cell_type": "code",
   "execution_count": 116,
   "metadata": {
    "collapsed": true
   },
   "outputs": [],
   "source": [
    "apriori_data.to_csv(\"apriori_data.csv\")"
   ]
  },
  {
   "cell_type": "code",
   "execution_count": 117,
   "metadata": {
    "collapsed": false
   },
   "outputs": [
    {
     "data": {
      "text/html": [
       "<div>\n",
       "<table border=\"1\" class=\"dataframe\">\n",
       "  <thead>\n",
       "    <tr style=\"text-align: right;\">\n",
       "      <th></th>\n",
       "      <th>store_id</th>\n",
       "      <th>promotion_id</th>\n",
       "      <th>month_of_year</th>\n",
       "      <th>quarter</th>\n",
       "      <th>product_category</th>\n",
       "    </tr>\n",
       "  </thead>\n",
       "  <tbody>\n",
       "    <tr>\n",
       "      <th>0</th>\n",
       "      <td>24</td>\n",
       "      <td>1869</td>\n",
       "      <td>12</td>\n",
       "      <td>Q4</td>\n",
       "      <td>Pure Juice Beverages</td>\n",
       "    </tr>\n",
       "    <tr>\n",
       "      <th>1</th>\n",
       "      <td>15</td>\n",
       "      <td>0</td>\n",
       "      <td>6</td>\n",
       "      <td>Q2</td>\n",
       "      <td>Pure Juice Beverages</td>\n",
       "    </tr>\n",
       "    <tr>\n",
       "      <th>2</th>\n",
       "      <td>11</td>\n",
       "      <td>0</td>\n",
       "      <td>9</td>\n",
       "      <td>Q3</td>\n",
       "      <td>Pure Juice Beverages</td>\n",
       "    </tr>\n",
       "    <tr>\n",
       "      <th>3</th>\n",
       "      <td>7</td>\n",
       "      <td>0</td>\n",
       "      <td>4</td>\n",
       "      <td>Q2</td>\n",
       "      <td>Pure Juice Beverages</td>\n",
       "    </tr>\n",
       "    <tr>\n",
       "      <th>4</th>\n",
       "      <td>15</td>\n",
       "      <td>0</td>\n",
       "      <td>7</td>\n",
       "      <td>Q3</td>\n",
       "      <td>Pure Juice Beverages</td>\n",
       "    </tr>\n",
       "  </tbody>\n",
       "</table>\n",
       "</div>"
      ],
      "text/plain": [
       "   store_id  promotion_id  month_of_year quarter      product_category\n",
       "0        24          1869             12      Q4  Pure Juice Beverages\n",
       "1        15             0              6      Q2  Pure Juice Beverages\n",
       "2        11             0              9      Q3  Pure Juice Beverages\n",
       "3         7             0              4      Q2  Pure Juice Beverages\n",
       "4        15             0              7      Q3  Pure Juice Beverages"
      ]
     },
     "execution_count": 117,
     "metadata": {},
     "output_type": "execute_result"
    }
   ],
   "source": [
    "apriori_data.head()"
   ]
  }
 ],
 "metadata": {
  "kernelspec": {
   "display_name": "Python 2",
   "language": "python",
   "name": "python2"
  },
  "language_info": {
   "codemirror_mode": {
    "name": "ipython",
    "version": 2
   },
   "file_extension": ".py",
   "mimetype": "text/x-python",
   "name": "python",
   "nbconvert_exporter": "python",
   "pygments_lexer": "ipython2",
   "version": "2.7.8"
  }
 },
 "nbformat": 4,
 "nbformat_minor": 0
}
